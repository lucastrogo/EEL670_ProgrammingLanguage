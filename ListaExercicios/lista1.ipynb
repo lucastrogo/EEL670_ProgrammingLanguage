{
 "cells": [
  {
   "attachments": {},
   "cell_type": "markdown",
   "metadata": {},
   "source": [
    "Lista de exericícios 1 EEL670 Linguagem de Programação 2023.2 UFRJ\n",
    "Lucas Manoel de Assis Ventura Trogo\n",
    "122168184\n",
    "\n",
    "Lista abordando conceitos de orientação a objetos em python\n"
   ]
  },
  {
   "cell_type": "markdown",
   "metadata": {},
   "source": [
    "Faça um Programa que peça 2 números inteiros e um número real. Calcule e mostre:\n",
    "    ->  o produto do dobro do primeiro com metade do segundo .\n",
    "    ->  a soma do triplo do primeiro com o terceiro.\n",
    "    ->  o terceiro elevado ao cubo."
   ]
  },
  {
   "cell_type": "code",
   "execution_count": 1,
   "metadata": {},
   "outputs": [
    {
     "name": "stdout",
     "output_type": "stream",
     "text": [
      "<bound method Ex11.product of <__main__.Ex11 object at 0x00000149292F48D0>>\n"
     ]
    }
   ],
   "source": [
    "class Ex11:\n",
    "    def __init__(self, number1, number2, number3):\n",
    "        self.number1 = number1\n",
    "        self.number2 = number2\n",
    "        self.number3 = number3\n",
    "    def product(self):\n",
    "        if self.number1 or self.number2 != int:\n",
    "            print(\"Number are not integers\")\n",
    "        else:\n",
    "            result = (2 * self.number1) * (self.number2/2)\n",
    "        return result\n",
    "    def sum(self):\n",
    "        if self.number1 or self.number2 != int:\n",
    "            print(\"Number are not integers\")\n",
    "        else:\n",
    "            result = (3 * self.number1) + (self.number3)\n",
    "        return result\n",
    "\n",
    "Ex11 = Ex11(11, 15, 25.2)\n",
    "print(Ex11.product)\n",
    "print(Ex11.sum)"
   ]
  },
  {
   "cell_type": "markdown",
   "metadata": {},
   "source": []
  },
  {
   "cell_type": "code",
   "execution_count": null,
   "metadata": {},
   "outputs": [],
   "source": []
  },
  {
   "cell_type": "markdown",
   "metadata": {},
   "source": []
  }
 ],
 "metadata": {
  "kernelspec": {
   "display_name": "Python 3",
   "language": "python",
   "name": "python3"
  },
  "language_info": {
   "codemirror_mode": {
    "name": "ipython",
    "version": 3
   },
   "file_extension": ".py",
   "mimetype": "text/x-python",
   "name": "python",
   "nbconvert_exporter": "python",
   "pygments_lexer": "ipython3",
   "version": "3.6.8"
  },
  "orig_nbformat": 4
 },
 "nbformat": 4,
 "nbformat_minor": 2
}
