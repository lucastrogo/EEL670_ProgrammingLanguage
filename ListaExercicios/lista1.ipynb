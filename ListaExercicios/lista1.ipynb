{
 "cells": [
  {
   "attachments": {},
   "cell_type": "markdown",
   "metadata": {},
   "source": [
    "Lista de exercícios 1 EEL670 Linguagem de Programação 2023.2 UFRJ\n",
    "\n",
    "Lucas Manoel de Assis Ventura Trogo\n",
    "122168184\n",
    "\n"
   ]
  },
  {
   "cell_type": "markdown",
   "metadata": {},
   "source": [
    "Faça um Programa que peça 2 números inteiros e um número real. Calcule e mostre:\n",
    "    ->  o produto do dobro do primeiro com metade do segundo .\n",
    "    ->  a soma do triplo do primeiro com o terceiro.\n",
    "    ->  o terceiro elevado ao cubo."
   ]
  },
  {
   "cell_type": "code",
   "execution_count": 4,
   "metadata": {},
   "outputs": [
    {
     "name": "stdout",
     "output_type": "stream",
     "text": [
      "50.0\n",
      "13\n",
      "125\n"
     ]
    }
   ],
   "source": [
    "def product(number1, number2):\n",
    "    if number1 != int(number1) and number2 != int(number2):\n",
    "        print(\"Number are not integers\")\n",
    "    else:\n",
    "        result = (2 * number1) * (number2/2)\n",
    "        return result\n",
    "\n",
    "def sum(number1, number3):\n",
    "    if number1 != int(number1) and number3 != int(number3) and number3 <= 0:\n",
    "        print(\"Number are not integers or natural\")\n",
    "    else:\n",
    "        result = (3 * number1) + (number3)\n",
    "    return result\n",
    "\n",
    "def cube(number3):\n",
    "    if number3 != int(number3) and number3 <= 0:\n",
    "        print(\"Number are not integers\")\n",
    "    else:\n",
    "        result = number3 ** 3\n",
    "    return result\n",
    "\n",
    "print(product(-5, -10))\n",
    "print(sum(1, 10))\n",
    "print(cube(5))"
   ]
  },
  {
   "cell_type": "markdown",
   "metadata": {},
   "source": [
    "Tendo como dados de entrada a altura de uma pessoa, construa um algoritmo que calcule seu peso ideal, usando a seguinte fórmula: (72.7*altura) - 58"
   ]
  },
  {
   "cell_type": "code",
   "execution_count": 5,
   "metadata": {},
   "outputs": [
    {
     "name": "stdout",
     "output_type": "stream",
     "text": [
      "68.0\n"
     ]
    }
   ],
   "source": [
    "def peso_ideal(altura):\n",
    "    peso_ideal = (72 * altura) - 58\n",
    "    print(peso_ideal)\n",
    "\n",
    "\n",
    "peso_ideal(1.75)"
   ]
  },
  {
   "cell_type": "markdown",
   "metadata": {},
   "source": [
    "Tendo como dado de entrada a altura (h) de uma pessoa, construa um algoritmo que calcule seu peso ideal, utilizando as seguintes fórmulas:\n",
    "Para homens: (72.7*h) - 58\n",
    "Para mulheres: (62.1*h) - 44.7"
   ]
  },
  {
   "cell_type": "code",
   "execution_count": 12,
   "metadata": {},
   "outputs": [
    {
     "name": "stdout",
     "output_type": "stream",
     "text": [
      "O seu peso ideal é 71.6\n",
      "O seu peso ideal é 57.599999999999994\n"
     ]
    }
   ],
   "source": [
    "def peso_ideal(altura):\n",
    "    sexo = input(\"Informe o seu sexo (Entradas: Homem --> h | Mulher --> m): \")\n",
    "    if sexo == \"m\":\n",
    "        peso_ideal = (62 * altura) - 44.7\n",
    "        print(f\"O seu peso ideal é {peso_ideal}\")\n",
    "    elif sexo == \"h\":\n",
    "        peso_ideal = (72 * altura) - 58\n",
    "        print(f\"O seu peso ideal é {peso_ideal}\")\n",
    "    else:\n",
    "        print(\"Entrada incorreta\")\n",
    "\n",
    "peso_ideal(1.80)\n",
    "peso_ideal(1.65)"
   ]
  },
  {
   "cell_type": "markdown",
   "metadata": {},
   "source": [
    "João Papo-de-Pescador, homem de bem, comprou um microcomputador para controlar o rendimento diário de seu trabalho. Toda vez que ele traz um peso de peixes maior que o estabelecido pelo regulamento de pesca do estado de São Paulo (50 quilos) deve pagar uma multa de R$ 4,00 por quilo excedente. João precisa que você faça um programa que leia a variável peso (peso de peixes) e calcule o excesso. Gravar na variável excesso a quantidade de quilos além do limite e na variável multa o valor da multa que João deverá pagar. Imprima os dados do programa com as mensagens adequadas."
   ]
  },
  {
   "cell_type": "code",
   "execution_count": 14,
   "metadata": {},
   "outputs": [
    {
     "name": "stdout",
     "output_type": "stream",
     "text": [
      "O peso do peixe está dentro do regulamento de pesca do estado de São Paulo\n",
      "O excesso de peso do peixe foi 10\n",
      "\n",
      "A multa que devera pagar sera de R$240\n",
      "\n"
     ]
    },
    {
     "ename": "",
     "evalue": "",
     "output_type": "error",
     "traceback": [
      "\u001b[1;31mThe Kernel crashed while executing code in the the current cell or a previous cell. Please review the code in the cell(s) to identify a possible cause of the failure. Click <a href='https://aka.ms/vscodeJupyterKernelCrash'>here</a> for more info. View Jupyter <a href='command:jupyter.viewOutput'>log</a> for further details."
     ]
    }
   ],
   "source": [
    "def papo_de_pescador(peso):\n",
    "    if peso > 50:\n",
    "        excesso = peso - 50\n",
    "        multa = peso * 4\n",
    "        print(f\"O excesso de peso do peixe foi {excesso}\\n\")\n",
    "        print(f\"A multa que devera pagar sera de R${multa}\\n\")\n",
    "    else:\n",
    "        print(\"O peso do peixe está dentro do regulamento de pesca do estado de São Paulo\")\n",
    "\n",
    "papo_de_pescador(45)\n",
    "papo_de_pescador(60)"
   ]
  }
 ],
 "metadata": {
  "kernelspec": {
   "display_name": "Python 3",
   "language": "python",
   "name": "python3"
  },
  "language_info": {
   "codemirror_mode": {
    "name": "ipython",
    "version": 3
   },
   "file_extension": ".py",
   "mimetype": "text/x-python",
   "name": "python",
   "nbconvert_exporter": "python",
   "pygments_lexer": "ipython3",
   "version": "3.6.8"
  },
  "orig_nbformat": 4
 },
 "nbformat": 4,
 "nbformat_minor": 2
}
