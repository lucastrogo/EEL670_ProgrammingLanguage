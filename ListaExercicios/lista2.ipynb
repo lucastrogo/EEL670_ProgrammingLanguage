{
 "cells": [
  {
   "cell_type": "markdown",
   "metadata": {},
   "source": [
    "Lucas Manoel de Assis Ventura Trogo\n",
    "DRE 122168184\n",
    "\n",
    "\n",
    "Lista de exercício 2 de EEL670 Linguagem de Programação"
   ]
  },
  {
   "cell_type": "markdown",
   "metadata": {},
   "source": [
    "1.\n",
    "Classe Bola: Crie uma classe que modele uma bola:\n",
    "\n",
    "Atributos: Cor, circunferência, material\n",
    "Métodos: trocaCor e mostraCo"
   ]
  },
  {
   "cell_type": "code",
   "execution_count": 11,
   "metadata": {},
   "outputs": [
    {
     "name": "stdout",
     "output_type": "stream",
     "text": [
      "azul\n"
     ]
    }
   ],
   "source": [
    "class Bola:\n",
    "    def __init__(self, cor, cincunferencia, material):\n",
    "        self.cor = cor\n",
    "        self.cincunferencia = cincunferencia\n",
    "        self.material = material\n",
    "    def trocaCor(self, cor):\n",
    "        self.cor = cor\n",
    "    def mostraCor(self):\n",
    "        return self.cor\n",
    "\n",
    "bola = Bola('azul', 10, 'plastico')\n",
    "print(bola.mostraCor())"
   ]
  },
  {
   "cell_type": "markdown",
   "metadata": {},
   "source": [
    "2.\n",
    "Classe Quadrado: Crie uma classe que modele um quadrado:\n",
    "\n",
    "Atributos: Tamanho do lado\n",
    "Métodos: Mudar valor do Lado, Retornar valor do Lado e calcular Área;"
   ]
  },
  {
   "cell_type": "code",
   "execution_count": 12,
   "metadata": {},
   "outputs": [
    {
     "name": "stdout",
     "output_type": "stream",
     "text": [
      "100\n"
     ]
    }
   ],
   "source": [
    "class Quadrado:\n",
    "    def __init__(self, lado):\n",
    "        self.lado = lado\n",
    "    def mudaLado(self, value):\n",
    "        self.lado = value\n",
    "    def mostraLado(self):\n",
    "        return self.lado\n",
    "    def calculaArea(self):\n",
    "        lado = self.lado\n",
    "        return self.lado * self.lado\n",
    "\n",
    "quadrado = Quadrado(10)\n",
    "print(quadrado.calculaArea())"
   ]
  },
  {
   "cell_type": "markdown",
   "metadata": {},
   "source": [
    "3.\n",
    "Classe Retangulo: Crie uma classe que modele um retangulo:\n",
    "\n",
    "Atributos: LadoA, LadoB (ou Comprimento e Largura, ou Base e Altura, a escolher)\n",
    "Métodos: Mudar valor dos lados, Retornar valor dos lados, calcular Área e calcular Perímetro;\n",
    "Crie um programa que utilize esta classe. Ele deve pedir ao usuário que informe as medidades de um local. Depois, deve criar um objeto com as medidas e calcular a quantidade de pisos e de rodapés necessárias para o local."
   ]
  },
  {
   "cell_type": "code",
   "execution_count": 13,
   "metadata": {},
   "outputs": [
    {
     "name": "stdout",
     "output_type": "stream",
     "text": [
      "Perimetro:  80.0\n",
      "Area:  400.0\n"
     ]
    }
   ],
   "source": [
    "class Retangulo:\n",
    "\n",
    "    def __init__(self, ladoA, ladoB):\n",
    "        self.ladoA = ladoA\n",
    "        self.ladoB = ladoB\n",
    "\n",
    "    def  mudarLadoA(self, valueA):\n",
    "        self.ladoA = valueA\n",
    "\n",
    "    def  mudarLadoB(self, valueB):\n",
    "        self.ladoB = valueB\n",
    "\n",
    "    def mostraLadoA(self):\n",
    "        return self.ladoA\n",
    "\n",
    "    def mostraLadoB(self):\n",
    "        return self.ladoB\n",
    "\n",
    "    def area(self):\n",
    "        return self.ladoA * self.ladoB\n",
    "\n",
    "    def perimetro(self):\n",
    "        return 2 * (self.ladoA + self.ladoB)\n",
    "\n",
    "\n",
    "def quantidade():\n",
    "    ladoA = float(input('Digite o lado A: '))\n",
    "    laboB = float(input('Digite o lado B: '))\n",
    "\n",
    "    retangulo = Retangulo(ladoA, laboB)\n",
    "\n",
    "    print('Perimetro: ', retangulo.perimetro())\n",
    "    print('Area: ', retangulo.area())\n",
    "\n",
    "quantidade()\n",
    "\n"
   ]
  },
  {
   "cell_type": "markdown",
   "metadata": {},
   "source": [
    "4.\n",
    "Classe Pessoa: Crie uma classe que modele uma pessoa:\n",
    "\n",
    "Atributos: nome, idade, peso e altura\n",
    "Métodos: Envelhercer, engordar, emagrecer, crescer. Obs: Por padrão, a cada ano que nossa pessoa envelhece, sendo a idade dela menor que 21 anos, ela deve crescer 0,5 cm.\n"
   ]
  },
  {
   "cell_type": "code",
   "execution_count": 14,
   "metadata": {},
   "outputs": [],
   "source": [
    "class Pessoa:\n",
    "    def __init__(self, nome, idade, peso, altura):\n",
    "        self.nome = nome\n",
    "        self.idade = idade\n",
    "        self.peso = peso\n",
    "        self.altura = altura\n",
    "\n",
    "    def envelhecer(self):\n",
    "        self.idade += 1\n",
    "        if self.idade < 21:\n",
    "            self.altura += 0.5\n",
    "\n",
    "    def engordar(self, peso):\n",
    "        self.peso += 1\n"
   ]
  },
  {
   "cell_type": "markdown",
   "metadata": {},
   "source": [
    "5.\n",
    "Classe Conta Corrente: Crie uma classe para implementar uma conta corrente. A classe deve possuir os seguintes atributos: número da conta, nome do correntista e saldo. Os métodos são os seguintes: alterarNome, depósito e saque; No construtor, saldo é opcional, com valor default zero e os demais atributos são obrigatórios.\n"
   ]
  },
  {
   "cell_type": "code",
   "execution_count": 15,
   "metadata": {},
   "outputs": [],
   "source": [
    "class conta_corrente():\n",
    "\n",
    "    def __init__(self, numero, nome, saldo):\n",
    "        self.numero = numero\n",
    "        self.nome = nome\n",
    "        self.saldo = saldo\n",
    "\n",
    "    def alterar_nome(self, nome):\n",
    "        self.nome = nome\n",
    "\n",
    "    def deposito(self, saldo):\n",
    "        self.saldo += saldo\n",
    "\n",
    "    def saque(self, saldo):\n",
    "        self.saldo -= saldo\n",
    "    "
   ]
  },
  {
   "cell_type": "markdown",
   "metadata": {},
   "source": [
    "6.\n",
    "Classe TV: Faça um programa que simule um televisor criando-o como um objeto. O usuário deve ser capaz de informar o número do canal e aumentar ou diminuir o volume. Certifique-se de que o número do canal e o nível do volume permanecem dentro de faixas válidas."
   ]
  },
  {
   "cell_type": "code",
   "execution_count": 16,
   "metadata": {},
   "outputs": [],
   "source": [
    "class Tv():\n",
    "\n",
    "    def __init__(self, canal, volume):\n",
    "        self.canal = canal\n",
    "        self.volume = volume"
   ]
  },
  {
   "cell_type": "markdown",
   "metadata": {},
   "source": [
    "7.\n",
    "Classe Bichinho Virtual:Crie uma classe que modele um Tamagushi (Bichinho Eletrônico):\n",
    "\n",
    "Atributos: Nome, Fome, Saúde e Idade b. Métodos: Alterar Nome, Fome, Saúde e Idade; Retornar Nome, Fome, Saúde e Idade Obs: Existe mais uma informação que devemos levar em consideração, o Humor do nosso tamagushi, este humor é uma combinação entre os atributos Fome e Saúde, ou seja, um campo calculado, então não devemos criar um atributo para armazenar esta informação por que ela pode ser calculada a qualquer momento."
   ]
  },
  {
   "cell_type": "code",
   "execution_count": 17,
   "metadata": {},
   "outputs": [],
   "source": [
    "class BichoVirtual:\n",
    "\n",
    "    def __init__(self, nome, fome, saude, idade):\n",
    "        self.nome = nome\n",
    "        self.fome = fome\n",
    "        self.saude = saude\n",
    "        self.idade = idade\n",
    "\n",
    "    def alterar_nome(self, nome):\n",
    "        self.nome = nome\n",
    "\n",
    "    def alterar_fome(self, fome):\n",
    "        self.fome = fome\n",
    "\n",
    "    def alterar_saude(self, saude):\n",
    "        self.saude = saude\n",
    "\n",
    "    def alterar_idade(self, idade):\n",
    "        self.idade = idade\n",
    "\n",
    "    def retorna_nome(self):\n",
    "        return self.nome\n",
    "    def retorna_fome(self):\n",
    "        return self.fome\n",
    "    def retorna_saude(self):\n",
    "        return self.saude\n",
    "    def retorna_idade(self):\n",
    "        return self.idade"
   ]
  },
  {
   "cell_type": "markdown",
   "metadata": {},
   "source": [
    "8.\n",
    "Classe Macaco: Desenvolva uma classe Macaco,que possua os atributos nome e bucho (estomago) e pelo menos os métodos comer(), verBucho() e digerir(). Faça um programa ou teste interativamente, criando pelo menos dois macacos, alimentando-os com pelo menos 3 alimentos diferentes e verificando o conteúdo do estomago a cada refeição. Experimente fazer com que um macaco coma o outro. É possível criar um macaco canibal?"
   ]
  },
  {
   "cell_type": "code",
   "execution_count": 18,
   "metadata": {},
   "outputs": [
    {
     "name": "stdout",
     "output_type": "stream",
     "text": [
      "Caesar\n",
      "['Banana']\n",
      "None\n",
      "['Banana', 'Jaca']\n",
      "None\n",
      "['Banana', 'Jaca', 'Goiaba']\n",
      "None\n",
      "[]\n",
      "None\n",
      "Cornelius\n",
      "['Manga']\n",
      "None\n",
      "['Manga', 'Abacaxi']\n",
      "None\n",
      "['Manga', 'Abacaxi', 'Melancia']\n",
      "None\n",
      "[]\n",
      "None\n"
     ]
    }
   ],
   "source": [
    "class Macaco:\n",
    "    def __init__(self, nome):\n",
    "        self.nome = nome\n",
    "        self.bucho = []\n",
    "\n",
    "    def comer(self, comida):\n",
    "        if type(comida) != str:\n",
    "            print(\"Não possível comer isso\")\n",
    "        else:\n",
    "            self.bucho.append(comida.title())\n",
    "\n",
    "    def verBucho(self):\n",
    "        print(self.bucho)\n",
    "\n",
    "    def digerir(self):\n",
    "        self.bucho = []\n",
    "\n",
    "macaco1 = Macaco('Caesar')\n",
    "macaco2 = Macaco('Cornelius')\n",
    "\n",
    "print(\"Caesar\")\n",
    "macaco1.comer('banana')\n",
    "\n",
    "print(macaco1.verBucho())\n",
    "\n",
    "macaco1.comer('jaca')\n",
    "print(macaco1.verBucho())\n",
    "\n",
    "macaco1.comer('goiaba')\n",
    "print(macaco1.verBucho())\n",
    "\n",
    "macaco1.digerir()\n",
    "print(macaco1.verBucho())\n",
    "\n",
    "print(\"Cornelius\")\n",
    "macaco2.comer('manga')\n",
    "\n",
    "print(macaco2.verBucho())\n",
    "\n",
    "macaco2.comer('abacaxi')\n",
    "print(macaco2.verBucho())\n",
    "\n",
    "macaco2.comer('melancia')\n",
    "print(macaco2.verBucho())\n",
    "\n",
    "macaco2.digerir()\n",
    "print(macaco2.verBucho())"
   ]
  },
  {
   "cell_type": "markdown",
   "metadata": {},
   "source": [
    "9.\n",
    "Classe Ponto e Retangulo: Faça um programa completo utilizando funções e classes que:\n",
    "\n",
    "Possua uma classe chamada Ponto, com os atributos x e y.\n",
    "Possua uma classe chamada Retangulo, com os atributos largura e altura.\n",
    "Possua uma função para imprimir os valores da classe Ponto\n",
    "Possua uma função para encontrar o centro de um Retângulo.\n",
    "Você deve criar alguns objetos da classe Retangulo.\n",
    "Cada objeto deve ter um vértice de partida, por exemplo, o vértice inferior esquerdo do retângulo, que deve ser um objeto da classe Ponto.\n",
    "A função para encontrar o centro do retângulo deve retornar o valor para um objeto do tipo ponto que indique os valores de x e y para o centro do objeto.\n",
    "O valor do centro do objeto deve ser mostrado na tela\n",
    "Crie um menu para alterar os valores do retângulo e imprimir o centro deste retângulo.\n"
   ]
  },
  {
   "cell_type": "code",
   "execution_count": 19,
   "metadata": {},
   "outputs": [],
   "source": [
    "class Ponto:\n",
    "    def __init__(self, x, y):\n",
    "        self.x = x\n",
    "        self.y = y\n",
    "\n",
    "    def retornaPonto(self):\n",
    "        print(f'({self.x}')\n",
    "        print(f'{self.y})')\n",
    "\n",
    "\n",
    "class Retangulo:\n",
    "\n",
    "    def __init__(self, altura, largura):\n",
    "        self.altura = altura\n",
    "        self.largura = largura\n",
    "        self.vertice_inicial = Ponto(altura, largura)\n",
    "\n",
    "    def centro(self):\n",
    "        return Ponto(self.altura / 2, self.largura / 2).retornaPonto()\n",
    "\n",
    "    def alteraMedidas(self, altura_nova, largura_nova):\n",
    "        self.altura = altura_nova\n",
    "        self.largura = largura_nova\n",
    "\n",
    "ret1 = Retangulo(10, 8)\n",
    "ret2 = Retangulo(6, 4)"
   ]
  },
  {
   "cell_type": "markdown",
   "metadata": {},
   "source": [
    "10.\n",
    "Classe Bomba de Combustível: Faça um programa completo utilizando classes e métodos que:\n",
    "\n",
    "Possua uma classe chamada bombaCombustível, com no mínimo esses atributos:\n",
    "tipoCombustivel.\n",
    "valorLitro\n",
    "quantidadeCombustivel\n",
    "Possua no mínimo esses métodos:\n",
    "abastecerPorValor( ) – método onde é informado o valor a ser abastecido e mostra a quantidade de litros que foi colocada no veículo\n",
    "abastecerPorLitro( ) – método onde é informado a quantidade em litros de combustível e mostra o valor a ser pago pelo cliente.\n",
    "alterarValor( ) – altera o valor do litro do combustível.\n",
    "alterarCombustivel( ) – altera o tipo do combustível.\n",
    "alterarQuantidadeCombustivel( ) – altera a quantidade de combustível restante na bomba.\n",
    "OBS: Sempre que acontecer um abastecimento é necessário atualizar a quantidade de combustível total na bomba.\n"
   ]
  },
  {
   "cell_type": "code",
   "execution_count": 20,
   "metadata": {},
   "outputs": [],
   "source": [
    "class BombaCombustivel:\n",
    "\n",
    "    def __init__(self, combustivel, litro, quantidade_combustivel):\n",
    "        self.combustivel = combustivel\n",
    "        self.litro = litro\n",
    "        self.quantidade_combustivel = quantidade_combustivel\n",
    "\n",
    "    def abastecerPorValor(self, valor):\n",
    "        litros = valor / self.valor_litro\n",
    "        self.quantidade_combustivel -= litros\n",
    "        print(f'Foram abastecidos {litros} L')\n",
    "\n",
    "    def abastecerPorLitro(self, litros):\n",
    "        valor = litros * self.valor_litro\n",
    "        self.quantidade_combustivel -= litros\n",
    "        print(f'Valor: R${valor}')\n",
    "\n",
    "    def alterarValor(self, valor):\n",
    "        self.valor_litro = valor\n",
    "\n",
    "    def alterarQuantidadeCombustivel(self, qunantidade_combustivel_novo):\n",
    "        self.combustivel = qunantidade_combustivel_novo"
   ]
  },
  {
   "cell_type": "markdown",
   "metadata": {},
   "source": [
    "11.\n",
    "Classe carro: Implemente uma classe chamada Carro com as seguintes propriedades:\n",
    "\n",
    "Um veículo tem um certo consumo de combustível (medidos em km / litro) e uma certa quantidade de combustível no tanque.\n",
    "O consumo é especificado no construtor e o nível de combustível inicial é 0.\n",
    "Forneça um método andar( ) que simule o ato de dirigir o veículo por uma certa distância, reduzindo o nível de combustível no tanque de gasolina.\n",
    "Forneça um método obterGasolina( ), que retorna o nível atual de combustível.\n",
    "Forneça um método adicionarGasolina( ), para abastecer o tanque. Exemplo de uso:\n",
    "meuFusca = Carro(15);           # 15 quilômetros por litro de combustível. \n",
    "meuFusca.adicionarGasolina(20); # abastece com 20 litros de combustível. \n",
    "meuFusca.andar(100);            # anda 100 quilômetros.\n",
    "meuFusca.obterGasolina()        # Imprime o combustível que resta no tanque.\n"
   ]
  },
  {
   "cell_type": "code",
   "execution_count": 21,
   "metadata": {},
   "outputs": [
    {
     "name": "stdout",
     "output_type": "stream",
     "text": [
      "A quantidade de combustível é: 48.333333333333336\n"
     ]
    }
   ],
   "source": [
    "class Carro:\n",
    "\n",
    "    def __init__(self, consumo):\n",
    "        self.consumo = consumo\n",
    "        self.combustivel = 0\n",
    "\n",
    "    def andar(self, km):\n",
    "        if self.combustivel -  (km / self.consumo) < 0:\n",
    "            print('Combustivel insuficiente')\n",
    "        else:\n",
    "            self.combustivel -= km/self.consumo\n",
    "\n",
    "    def obterGasolina(self):\n",
    "        print(f'A quantidade de combustível é: {self.combustivel}')\n",
    "\n",
    "    def adicionarGasolina(self, litros):\n",
    "        self.combustivel += litros\n",
    "\n",
    "\n",
    "santana = Carro(30)\n",
    "santana.adicionarGasolina(50)\n",
    "santana.andar(50)\n",
    "santana.obterGasolina()\n"
   ]
  },
  {
   "cell_type": "markdown",
   "metadata": {},
   "source": [
    "12.\n",
    "Classe Conta de Investimento: Faça uma classe contaInvestimento que seja semelhante a classe contaBancaria, com a diferença de que se adicione um atributo taxaJuros. Forneça um construtor que configure tanto o saldo inicial como a taxa de juros. Forneça um método adicioneJuros (sem parâmetro explícito) que adicione juros à conta. Escreva um programa que construa uma poupança com um saldo inicial de R$1000,00 e uma taxa de juros de 10%. Depois aplique o método adicioneJuros() cinco vezes e imprime o saldo resultante."
   ]
  },
  {
   "cell_type": "code",
   "execution_count": 22,
   "metadata": {},
   "outputs": [
    {
     "ename": "SyntaxError",
     "evalue": "unexpected EOF while parsing (<ipython-input-22-4c432ce1d711>, line 3)",
     "output_type": "error",
     "traceback": [
      "\u001b[1;36m  File \u001b[1;32m\"<ipython-input-22-4c432ce1d711>\"\u001b[1;36m, line \u001b[1;32m3\u001b[0m\n\u001b[1;33m    def __init__(self, ):\u001b[0m\n\u001b[1;37m                         ^\u001b[0m\n\u001b[1;31mSyntaxError\u001b[0m\u001b[1;31m:\u001b[0m unexpected EOF while parsing\n"
     ]
    }
   ],
   "source": [
    "class contaInvestimento:\n",
    "\n",
    "    def __init__(self, ):"
   ]
  },
  {
   "cell_type": "markdown",
   "metadata": {},
   "source": [
    "13.\n",
    "Classe Funcionário: Implemente a classe Funcionário. Um empregado tem um nome (um string) e um salário(um double). Escreva um construtor com dois parâmetros (nome e salário) e métodos para devolver nome e salário. Escreva um pequeno programa que teste sua classe."
   ]
  },
  {
   "cell_type": "code",
   "execution_count": null,
   "metadata": {},
   "outputs": [
    {
     "name": "stdout",
     "output_type": "stream",
     "text": [
      "Nome do funcionário: Lucas\n",
      "None\n",
      "Salário do funcionário:  R$ 1530.35\n",
      "None\n"
     ]
    }
   ],
   "source": [
    "class Funcionario:\n",
    "\n",
    "    def __init__(self, nome:str, salario:float):\n",
    "        self.nome = nome\n",
    "        self.salario = salario\n",
    "\n",
    "    def retornaNome(self):\n",
    "        print(f'Nome do funcionário: {self.nome}')\n",
    "\n",
    "    def retornaSalario(self):\n",
    "        print(f'Salário do funcionário:  R${self.salario}')\n",
    "\n",
    "funcionario = Funcionario(\"Lucas\", 1530.35)\n",
    "print(funcionario.retornaNome())\n",
    "print(funcionario.retornaSalario())"
   ]
  },
  {
   "cell_type": "markdown",
   "metadata": {},
   "source": [
    "14.\n",
    "\n",
    "Aprimore a classe do exercício anterior para adicionar o método aumentarSalario (porcentualDeAumento) que aumente o salário do funcionário em uma certa porcentagem.\n",
    "Exemplo de uso:\n",
    "  harry=funcionário(\"Harry\",25000)\n",
    "  harry.aumentarSalario(10)\n"
   ]
  },
  {
   "cell_type": "code",
   "execution_count": null,
   "metadata": {},
   "outputs": [
    {
     "name": "stdout",
     "output_type": "stream",
     "text": [
      "Nome do funcionário: Lucas\n",
      "None\n",
      "Salário do funcionário:  R$1530.35\n",
      "None\n",
      "Salário do funcionário:  R$1683.385\n",
      "None\n"
     ]
    }
   ],
   "source": [
    "class Funcionario:\n",
    "\n",
    "    def __init__(self, nome:str, salario:float):\n",
    "        self.nome = nome\n",
    "        self.salario = salario\n",
    "\n",
    "    def retornaNome(self):\n",
    "        print(f'Nome do funcionário: {self.nome}')\n",
    "\n",
    "    def retornaSalario(self):\n",
    "        print(f'Salário do funcionário:  R${self.salario}')\n",
    "\n",
    "    def aumentarSalario(self, porcentagem):\n",
    "        self.salario += self.salario * (porcentagem / 100)\n",
    "\n",
    "funcionario = Funcionario(\"Lucas\", 1530.35)\n",
    "print(funcionario.retornaNome())\n",
    "print(funcionario.retornaSalario())\n",
    "funcionario.aumentarSalario(10)\n",
    "print(funcionario.retornaSalario())"
   ]
  },
  {
   "cell_type": "markdown",
   "metadata": {},
   "source": [
    "15.\n",
    "\n",
    "Classe Bichinho Virtual++: Melhore o programa do bichinho virtual, permitindo que o usuário especifique quanto de comida ele fornece ao bichinho e por quanto tempo ele brinca com o bichinho. Faça com que estes valores afetem quão rapidamente os níveis de fome e tédio caem."
   ]
  },
  {
   "cell_type": "code",
   "execution_count": null,
   "metadata": {},
   "outputs": [],
   "source": [
    "class BichinhoVirtual:\n",
    "    def __init__(self, nome):\n",
    "        self.nome = nome\n",
    "        self.fome = 100\n",
    "        self.saude = 100\n",
    "        self.idade = 0\n",
    "        self.humor = 100\n",
    "\n",
    "    def alterarNome(self, nome_novo):\n",
    "        self.nome = nome_novo\n",
    "\n",
    "    def alterarFome(self, fome_nova):\n",
    "        if fome_nova > 100 or fome_nova < 0:\n",
    "            print('Valor inválido')\n",
    "        else:\n",
    "            self.fome = fome_nova\n",
    "\n",
    "    def alterarSaude(self, saude_nova):\n",
    "        if saude_nova > 100 or saude_nova < 0:\n",
    "            print('Valor inválido')\n",
    "        else:\n",
    "            self.saude = saude_nova\n",
    "\n",
    "    def alterarIdade(self, idade_nova):\n",
    "        if idade_nova < 0:\n",
    "            print('Valor inválido')\n",
    "        else:\n",
    "            self.idade = idade_nova\n",
    "\n",
    "    def retornaNome(self):\n",
    "        return self.nome\n",
    "\n",
    "    def retornaFome(self):\n",
    "        return self.fome\n",
    "\n",
    "    def retornaSaude(self):\n",
    "        return self.saude\n",
    "\n",
    "    def retornaIdade(self):\n",
    "        return self.idade\n",
    "\n",
    "    def humor(self):\n",
    "        valor_humor = self.fome + self.saude\n",
    "        if valor_humor > 150:\n",
    "            return 'Feliz'\n",
    "        elif valor_humor > 100:\n",
    "            return 'Normal'\n",
    "        elif valor_humor > 50:\n",
    "            return 'Triste'\n",
    "        else:\n",
    "            return 'Morrendo'\n",
    "        self.humor = valor_humor/2\n",
    "\n",
    "    def alimentar(self, quantidade_comida):\n",
    "        if quantidade_comida > 5:\n",
    "            self.fome = 100\n",
    "        elif quantidade_comida > 3:\n",
    "            if self.fome > 40:\n",
    "                self.fome = 100\n",
    "            else:\n",
    "                self.fome += 60\n",
    "        else:\n",
    "            if self.fome > 80:\n",
    "                self.fome = 100\n",
    "            else:\n",
    "                self.fome += 20\n",
    "\n",
    "    def brincar(self, tempo_brincando):\n",
    "        if tempo_brincando > 5:\n",
    "            self.humor = 100\n",
    "        elif tempo_brincando > 3:\n",
    "            if self.humor > 40:\n",
    "                self.humor = 100\n",
    "            else:\n",
    "                self.humor += 60\n",
    "        else:\n",
    "            if self.humor > 80:\n",
    "                self.humor = 100\n",
    "            else:\n",
    "                self.humor += 20"
   ]
  },
  {
   "cell_type": "markdown",
   "metadata": {},
   "source": [
    "16.\n",
    "\n",
    "Crie uma \"porta escondida\" no programa do programa do bichinho virtual que mostre os valores exatos dos atributos do objeto. Consiga isto mostrando o objeto quando uma opção secreta, não listada no menu, for informada na escolha do usuário. Dica: acrescente um método especial str() à classe Bichinho."
   ]
  },
  {
   "cell_type": "code",
   "execution_count": null,
   "metadata": {},
   "outputs": [],
   "source": [
    "class BichinhoVirtual:\n",
    "    def __init__(self, nome):\n",
    "        self.nome = nome\n",
    "        self.fome = 100\n",
    "        self.saude = 100\n",
    "        self.idade = 0\n",
    "        self.humor = 100\n",
    "\n",
    "    def alterarNome(self, nome_novo):\n",
    "        self.nome = nome_novo\n",
    "\n",
    "    def alterarFome(self, fome_nova):\n",
    "        if fome_nova > 100 or fome_nova < 0:\n",
    "            print('Valor inválido')\n",
    "        else:\n",
    "            self.fome = fome_nova\n",
    "\n",
    "    def alterarSaude(self, saude_nova):\n",
    "        if saude_nova > 100 or saude_nova < 0:\n",
    "            print('Valor inválido')\n",
    "        else:\n",
    "            self.saude = saude_nova\n",
    "\n",
    "    def alterarIdade(self, idade_nova):\n",
    "        if idade_nova < 0:\n",
    "            print('Valor inválido')\n",
    "        else:\n",
    "            self.idade = idade_nova\n",
    "\n",
    "    def retornaNome(self):\n",
    "        return self.nome\n",
    "\n",
    "    def retornaFome(self):\n",
    "        return self.fome\n",
    "\n",
    "    def retornaSaude(self):\n",
    "        return self.saude\n",
    "\n",
    "    def retornaIdade(self):\n",
    "        return self.idade\n",
    "\n",
    "    def humor(self):\n",
    "        valor_humor = self.fome + self.saude\n",
    "        if valor_humor > 150:\n",
    "            return 'Feliz'\n",
    "        elif valor_humor > 100:\n",
    "            return 'Normal'\n",
    "        elif valor_humor > 50:\n",
    "            return 'Triste'\n",
    "        else:\n",
    "            return 'Morrendo'\n",
    "        self.humor = valor_humor/2\n",
    "\n",
    "    def alimentar(self, quantidade_comida):\n",
    "        if quantidade_comida > 5:\n",
    "            self.fome = 100\n",
    "        elif quantidade_comida > 3:\n",
    "            if self.fome > 40:\n",
    "                self.fome = 100\n",
    "            else:\n",
    "                self.fome += 60\n",
    "        else:\n",
    "            if self.fome > 80:\n",
    "                self.fome = 100\n",
    "            else:\n",
    "                self.fome += 20\n",
    "\n",
    "    def brincar(self, tempo_brincando):\n",
    "        if tempo_brincando > 5:\n",
    "            self.humor = 100\n",
    "        elif tempo_brincando > 3:\n",
    "            if self.humor > 40:\n",
    "                self.humor = 100\n",
    "            else:\n",
    "                self.humor += 60\n",
    "        else:\n",
    "            if self.humor > 80:\n",
    "                self.humor = 100\n",
    "            else:\n",
    "                self.humor += 20\n",
    "\n",
    "    def str(self):\n",
    "        print(f'Nome: {self.nome}')\n",
    "        print(f'Fome: {self.fome}')\n",
    "        print(f'Saúde: {self.saude}')\n",
    "        print(f'Idade: {self.idade}')\n",
    "        print(f'Humor: {self.humor}')\n"
   ]
  },
  {
   "cell_type": "markdown",
   "metadata": {},
   "source": [
    "17.\n",
    "\n",
    "Crie uma Fazenda de Bichinhos instanciando vários objetos bichinho e mantendo o controle deles através de uma lista. Imite o funcionamento do programa básico, mas ao invés de exigis que o usuário tome conta de um único bichinho, exija que ele tome conta da fazenda inteira. Cada opção do menu deveria permitir que o usuário executasse uma ação para todos os bichinhos (alimentar todos os bichinhos, brincar com todos os bichinhos, ou ouvir a todos os bichinhos). Para tornar o programa mais interessante, dê para cada bichinho um nivel inicial aleatório de fome e tédio."
   ]
  },
  {
   "cell_type": "code",
   "execution_count": null,
   "metadata": {},
   "outputs": [
    {
     "name": "stdout",
     "output_type": "stream",
     "text": [
      "Escolha entre as opções para os bichinhos:\n",
      "1. Alimentar\n",
      "2. Brincar\n",
      "3. Ouvir\n",
      "4. Sair\n",
      "Escolha entre as opções para os bichinhos:\n",
      "1. Alimentar\n",
      "2. Brincar\n",
      "3. Ouvir\n",
      "4. Sair\n",
      "Escolha entre as opções para os bichinhos:\n",
      "1. Alimentar\n",
      "2. Brincar\n",
      "3. Ouvir\n",
      "4. Sair\n"
     ]
    }
   ],
   "source": [
    "class BichinhoVirtual:\n",
    "    def __init__(self, nome, fome, humor):\n",
    "        self.nome = nome\n",
    "        self.fome = fome\n",
    "        self.saude = 100\n",
    "        self.idade = 0\n",
    "        self.humor = humor\n",
    "\n",
    "    def alterarNome(self, nome_novo):\n",
    "        self.nome = nome_novo\n",
    "\n",
    "    def alterarFome(self, fome_nova):\n",
    "        if fome_nova > 100 or fome_nova < 0:\n",
    "            print('Valor inválido')\n",
    "        else:\n",
    "            self.fome = fome_nova\n",
    "\n",
    "    def alterarSaude(self, saude_nova):\n",
    "        if saude_nova > 100 or saude_nova < 0:\n",
    "            print('Valor inválido')\n",
    "        else:\n",
    "            self.saude = saude_nova\n",
    "\n",
    "    def alterarIdade(self, idade_nova):\n",
    "        if idade_nova < 0:\n",
    "            print('Valor inválido')\n",
    "        else:\n",
    "            self.idade = idade_nova\n",
    "\n",
    "    def retornaNome(self):\n",
    "        return self.nome\n",
    "    \n",
    "    def retornaFome(self):\n",
    "        return self.fome\n",
    "    \n",
    "    def retornaSaude(self):\n",
    "        return self.saude\n",
    "    \n",
    "    def retornaIdade(self):\n",
    "        return self.idade\n",
    "    \n",
    "    def humor(self):\n",
    "        valor_humor = self.fome + self.saude\n",
    "        if valor_humor > 150:\n",
    "            return 'Feliz'\n",
    "        elif valor_humor > 100:\n",
    "            return 'Normal'\n",
    "        elif valor_humor > 50:\n",
    "            return 'Triste'\n",
    "        else:\n",
    "            return 'Morrendo'\n",
    "        self.humor = valor_humor/2\n",
    "        \n",
    "    def alimentar(self, quantidade_comida):\n",
    "        if quantidade_comida > 5:\n",
    "            self.fome = 100\n",
    "        elif quantidade_comida > 3:\n",
    "            if self.fome > 40:\n",
    "                self.fome = 100\n",
    "            else:\n",
    "                self.fome += 60\n",
    "        else:\n",
    "            if self.fome > 80:\n",
    "                self.fome = 100\n",
    "            else:\n",
    "                self.fome += 20\n",
    "\n",
    "    def brincar(self, tempo_brincando):\n",
    "        if tempo_brincando > 5:\n",
    "            self.humor = 100\n",
    "        elif tempo_brincando > 3:\n",
    "            if self.humor > 40:\n",
    "                self.humor = 100\n",
    "            else:\n",
    "                self.humor += 60\n",
    "        else:\n",
    "            if self.humor > 80:\n",
    "                self.humor = 100\n",
    "            else:\n",
    "                self.humor += 20\n",
    "\n",
    "    def str(self):\n",
    "        print(f'Nome: {self.nome}')\n",
    "        print(f'Fome: {self.fome}')\n",
    "        print(f'Saúde: {self.saude}')\n",
    "        print(f'Idade: {self.idade}')\n",
    "        print(f'Humor: {self.humor}')\n",
    "\n",
    "bichinho1 = BichinhoVirtual('Lontra', 40, 80)\n",
    "bichinho2 = BichinhoVirtual('Margarida', 50, 36)\n",
    "bichinho3 = BichinhoVirtual('Pato', 90, 90)\n",
    "bichinhos = [bichinho1, bichinho2, bichinho3]\n",
    "\n",
    "while True:\n",
    "    print('Escolha entre as opções para os bichinhos:')\n",
    "    print('1. Alimentar')\n",
    "    print('2. Brincar')\n",
    "    print('3. Ouvir')\n",
    "    print('4. Sair')\n",
    "    opcao = input('Digite sua resposta: ')\n",
    "\n",
    "    if opcao == '1':\n",
    "        comida = int(input('Digite a quantidade de comida: '))\n",
    "        for bichinho in bichinhos:\n",
    "            bichinho.alimentar(comida)\n",
    "\n",
    "    elif opcao == '2':\n",
    "        brincando = float(input('Digite o tempo brincando: '))\n",
    "        for bichinho in bichinhos:\n",
    "            bichinho.brincar(brincando)\n",
    "\n",
    "    elif opcao == '3':\n",
    "        for bichinho in bichinhos:\n",
    "            bichinho.str()\n",
    "\n",
    "    else:\n",
    "        break"
   ]
  }
 ],
 "metadata": {
  "kernelspec": {
   "display_name": "Python 3",
   "language": "python",
   "name": "python3"
  },
  "language_info": {
   "codemirror_mode": {
    "name": "ipython",
    "version": 3
   },
   "file_extension": ".py",
   "mimetype": "text/x-python",
   "name": "python",
   "nbconvert_exporter": "python",
   "pygments_lexer": "ipython3",
   "version": "3.6.8"
  }
 },
 "nbformat": 4,
 "nbformat_minor": 2
}
